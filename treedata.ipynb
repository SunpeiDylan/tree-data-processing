{
 "cells": [
  {
   "cell_type": "code",
   "execution_count": 1,
   "metadata": {},
   "outputs": [],
   "source": [
    "import pandas as pd\n",
    "import re\n",
    "import math\n",
    "import numpy as np\n",
    "import shapefile\n",
    "from matplotlib.patches import Polygon"
   ]
  },
  {
   "cell_type": "markdown",
   "metadata": {},
   "source": [
    "## 1. Calculate the tree canopy cover"
   ]
  },
  {
   "cell_type": "code",
   "execution_count": 2,
   "metadata": {},
   "outputs": [],
   "source": [
    "tree = pd.read_csv(\"Trees_df_all.csv\")"
   ]
  },
  {
   "cell_type": "code",
   "execution_count": 3,
   "metadata": {},
   "outputs": [],
   "source": [
    "tree_list = tree.Genus\n",
    "tree_list=list(set(tree_list))"
   ]
  },
  {
   "cell_type": "code",
   "execution_count": 4,
   "metadata": {},
   "outputs": [],
   "source": [
    "np.random.seed(123)\n",
    "bias = {}\n",
    "for i in tree_list:\n",
    "    bias[i]=np.random.random()/2\n",
    "\n",
    "    \n",
    "tree['Canopy']  = 0.0\n",
    "\n",
    "\n",
    "for index,age,genus in zip(tree.index,tree.age,tree.Genus):\n",
    "    if age<=5:\n",
    "        tree.loc[index,'Canopy']=(1+0.4*age+bias[genus])**2*math.pi\n",
    "    elif age>5 and age<=10:\n",
    "        tree.loc[index,'Canopy']=(3+0.4*(age-5)+bias[genus])**2*math.pi\n",
    "    elif age>10 and age<=23:\n",
    "        tree.loc[index,'Canopy']=(5+0.13*(age-10)+bias[genus])**2*math.pi\n",
    "    elif age>23 and age<=35:\n",
    "        tree.loc[index,'Canopy']=(8+0.1*(age-23)+bias[genus])**2*math.pi\n",
    "    elif age>35 and age<=65:\n",
    "        tree.loc[index,'Canopy']=(9+0.2*(age-35)+bias[genus])**2*math.pi\n",
    "    else:\n",
    "        tree.loc[index,'Canopy']=(15-0.1*(age-65)+bias[genus])**2*math.pi"
   ]
  },
  {
   "cell_type": "code",
   "execution_count": 5,
   "metadata": {},
   "outputs": [],
   "source": [
    "tree.to_csv('Trees_df_all_withCanopy.csv',index=False,encoding='UTF-8')"
   ]
  },
  {
   "cell_type": "markdown",
   "metadata": {},
   "source": [
    "### 2. Calculate the Simpson Index and Species Evenness based on Suburbs"
   ]
  },
  {
   "cell_type": "code",
   "execution_count": 29,
   "metadata": {},
   "outputs": [],
   "source": [
    "suburb_list = tree.suburb\n",
    "suburb_set = list(set(suburb_list))"
   ]
  },
  {
   "cell_type": "code",
   "execution_count": 30,
   "metadata": {
    "scrolled": true
   },
   "outputs": [],
   "source": [
    "index_genus = pd.DataFrame(columns=['suburb', 'shannon_index', 'simpson_index', 'species_evenness'])\n",
    "for suburb in suburb_set: \n",
    "    temp_dict = {}\n",
    "    tree_amout = len(tree[tree.suburb == suburb].Genus)\n",
    "    for item in tree[tree.suburb == suburb].Genus:\n",
    "        try:\n",
    "            temp_dict[item] += 1\n",
    "        except:\n",
    "            temp_dict[item] = 1\n",
    "    species_number = 0\n",
    "    shannon_index = 0\n",
    "    simpson_temp = 0\n",
    "    for key in temp_dict.keys():\n",
    "        simpson_temp += temp_dict[key]*(temp_dict[key]-1)\n",
    "        shannon_index += -(temp_dict[key]/tree_amout)*math.log(temp_dict[key]/tree_amout)\n",
    "    \n",
    "    simpson_index = 1-simpson_temp/(tree_amout*(tree_amout-1))\n",
    "    \n",
    "    try:\n",
    "        species_evenness = shannon_index/math.log(len(temp_dict.keys()))\n",
    "    except: \n",
    "        species_evenness = 0\n",
    "    \n",
    "    index_genus = index_genus.append([{'suburb':suburb, 'shannon_index':shannon_index, 'simpson_index':simpson_index, 'species_evenness':species_evenness}], ignore_index=True)"
   ]
  },
  {
   "cell_type": "code",
   "execution_count": 8,
   "metadata": {},
   "outputs": [],
   "source": [
    "#index_genus.to_csv('tree_index_genus.csv',index=False,encoding='UTF-8')"
   ]
  },
  {
   "cell_type": "markdown",
   "metadata": {},
   "source": [
    "## 3. Calculate the Suburb Canopy cover rate"
   ]
  },
  {
   "cell_type": "code",
   "execution_count": 21,
   "metadata": {},
   "outputs": [],
   "source": [
    "sf = shapefile.Reader(\"./vic_suburb_boundary/VIC_LOCALITY_POLYGON_shp\") # note, no suffix, all 3 files are used\n",
    "recs = sf.records()\n",
    "shapes = sf.shapes()\n"
   ]
  },
  {
   "cell_type": "code",
   "execution_count": 37,
   "metadata": {},
   "outputs": [],
   "source": [
    "index_genus['geo']  = "
   ]
  },
  {
   "cell_type": "code",
   "execution_count": 40,
   "metadata": {},
   "outputs": [],
   "source": [
    "for index, sub in zip(index_genus.index,index_genus.suburb):\n",
    "    for i in range(len(recs)):\n",
    "        if recs[i].VIC_LOCA_2 == sub:\n",
    "            index_genus.loc[index,'geo']=str(shapes[i].points)\n",
    "            \n",
    "    "
   ]
  },
  {
   "cell_type": "code",
   "execution_count": 27,
   "metadata": {},
   "outputs": [],
   "source": [
    "#suburb_geo = pd.read_csv(\"tree_index_genus_geo.csv\")"
   ]
  },
  {
   "cell_type": "code",
   "execution_count": 42,
   "metadata": {},
   "outputs": [],
   "source": [
    "suburb_area={}\n",
    "for sub,coord in zip(index_genus.suburb,index_genus.geo):\n",
    "    coord = eval(coord)\n",
    "    coord_len = len(coord)\n",
    "    \n",
    "    s = coord[0][1] * (coord[coord_len -1][0]-coord[1][0])\n",
    "    for i in range(1,coord_len):\n",
    "        s += coord[i][1] * (coord[i-1][0] - coord[(i+1)%coord_len][0])\n",
    "    \n",
    "    suburb_area[sub] = round(math.fabs(s/2)*9101160000.085981,6)\n",
    "\n",
    "\n"
   ]
  },
  {
   "cell_type": "code",
   "execution_count": 44,
   "metadata": {},
   "outputs": [],
   "source": [
    "suburb_canopy = {}\n",
    "for sub,canopy in zip(tree.suburb,tree.Canopy):\n",
    "    try:\n",
    "        suburb_canopy[sub]+=float(canopy)\n",
    "    except:\n",
    "        suburb_canopy[sub]=float(canopy)"
   ]
  },
  {
   "cell_type": "code",
   "execution_count": 46,
   "metadata": {},
   "outputs": [],
   "source": [
    "for index,suburb in zip(index_genus.index,index_genus.suburb):\n",
    "    index_genus.loc[index,'canopy_rate'] = suburb_canopy[suburb]/suburb_area[suburb]"
   ]
  },
  {
   "cell_type": "code",
   "execution_count": 48,
   "metadata": {},
   "outputs": [],
   "source": [
    "index_genus.to_csv('tree_suburb_index_with_canopyrate.csv',index=False,encoding='UTF-8')"
   ]
  },
  {
   "cell_type": "code",
   "execution_count": null,
   "metadata": {},
   "outputs": [],
   "source": []
  }
 ],
 "metadata": {
  "kernelspec": {
   "display_name": "Python 3",
   "language": "python",
   "name": "python3"
  },
  "language_info": {
   "codemirror_mode": {
    "name": "ipython",
    "version": 3
   },
   "file_extension": ".py",
   "mimetype": "text/x-python",
   "name": "python",
   "nbconvert_exporter": "python",
   "pygments_lexer": "ipython3",
   "version": "3.6.8"
  }
 },
 "nbformat": 4,
 "nbformat_minor": 4
}
